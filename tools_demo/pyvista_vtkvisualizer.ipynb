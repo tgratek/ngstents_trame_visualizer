{
 "cells": [
  {
   "cell_type": "code",
   "execution_count": null,
   "metadata": {},
   "outputs": [],
   "source": [
    "import sys\n",
    "sys.path.append('../src')"
   ]
  },
  {
   "cell_type": "code",
   "execution_count": null,
   "metadata": {},
   "outputs": [],
   "source": [
    "from pyvista_visualizer import PyVistaVTKVisualizer\n",
    "\n",
    "try:\n",
    "    visualizer = PyVistaVTKVisualizer(filename=\"test-files/demo.vtk\")\n",
    "except FileNotFoundError as e:\n",
    "    print(e)\n",
    "\n",
    "await visualizer.ui.ready\n",
    "visualizer.ui"
   ]
  }
 ],
 "metadata": {
  "kernelspec": {
   "display_name": "env",
   "language": "python",
   "name": "python3"
  },
  "language_info": {
   "codemirror_mode": {
    "name": "ipython",
    "version": 3
   },
   "file_extension": ".py",
   "mimetype": "text/x-python",
   "name": "python",
   "nbconvert_exporter": "python",
   "pygments_lexer": "ipython3",
   "version": "3.12.3"
  },
  "vscode": {
   "interpreter": {
    "hash": "c35f5e21971310eda9419bbc65559427eb747959617fbba860926020e13b2422"
   }
  }
 },
 "nbformat": 4,
 "nbformat_minor": 2
}
