{
 "cells": [
  {
   "cell_type": "code",
   "execution_count": 1,
   "metadata": {},
   "outputs": [
    {
     "data": {
      "application/vnd.jupyter.widget-view+json": {
       "model_id": "20729945a2e041f3872a064f6c891d26",
       "version_major": 2,
       "version_minor": 0
      },
      "text/plain": [
       "HTML(value='<iframe id=\"trame_trame__template_main\" src=\"http://localhost:63081/index.html?ui=main&reconnect=a…"
      ]
     },
     "metadata": {},
     "output_type": "display_data"
    },
    {
     "name": "stdout",
     "output_type": "stream",
     "text": [
      " JS Error => error: ResizeObserver loop completed with undelivered notifications.\n"
     ]
    }
   ],
   "source": [
    "from trame_mod import TrameVTKVisualizer\n",
    "try:\n",
    "    visualizer = TrameVTKVisualizer(filename=\"test-files/wave2d.vtk\")\n",
    "except FileNotFoundError as e:\n",
    "    print(e)\n",
    "\n",
    "await visualizer.ui.ready\n",
    "visualizer.ui"
   ]
  }
 ],
 "metadata": {
  "kernelspec": {
   "display_name": "env",
   "language": "python",
   "name": "python3"
  },
  "language_info": {
   "codemirror_mode": {
    "name": "ipython",
    "version": 3
   },
   "file_extension": ".py",
   "mimetype": "text/x-python",
   "name": "python",
   "nbconvert_exporter": "python",
   "pygments_lexer": "ipython3",
   "version": "3.12.3"
  }
 },
 "nbformat": 4,
 "nbformat_minor": 2
}
