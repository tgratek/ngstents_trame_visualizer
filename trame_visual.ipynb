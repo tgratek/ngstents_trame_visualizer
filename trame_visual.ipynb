{
 "cells": [
  {
   "cell_type": "code",
   "execution_count": 1,
   "metadata": {},
   "outputs": [
    {
     "data": {
      "application/vnd.jupyter.widget-view+json": {
       "model_id": "97606e567bc942c792b6bef7205fa3b3",
       "version_major": 2,
       "version_minor": 0
      },
      "text/plain": [
       "HTML(value='<iframe id=\"trame_trame__template_main\" src=\"http://localhost:63368/index.html?ui=main&reconnect=a…"
      ]
     },
     "metadata": {},
     "output_type": "display_data"
    }
   ],
   "source": [
    "from trame_mod import VTKVisualizer\n",
    "try:\n",
    "    visualizer = VTKVisualizer(filename=\"test-files/wave2d.vtk\")\n",
    "except FileNotFoundError as e:\n",
    "    print(e)\n",
    "\n",
    "await visualizer.ui.ready\n",
    "visualizer.ui"
   ]
  }
 ],
 "metadata": {
  "kernelspec": {
   "display_name": "env",
   "language": "python",
   "name": "python3"
  },
  "language_info": {
   "codemirror_mode": {
    "name": "ipython",
    "version": 3
   },
   "file_extension": ".py",
   "mimetype": "text/x-python",
   "name": "python",
   "nbconvert_exporter": "python",
   "pygments_lexer": "ipython3",
   "version": "3.12.3"
  }
 },
 "nbformat": 4,
 "nbformat_minor": 2
}
