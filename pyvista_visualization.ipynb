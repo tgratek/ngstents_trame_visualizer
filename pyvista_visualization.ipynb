{
 "cells": [
  {
   "cell_type": "code",
   "execution_count": 32,
   "metadata": {},
   "outputs": [],
   "source": [
    "import pyvista as pv\n",
    "import vtk\n",
    "import numpy as np\n",
    "\n",
    "from pyvista.plotting.themes import DocumentTheme # Creating a theme\n",
    "from pyvista.plotting.opts import ElementType # For element_picking (selecting a 'face')\n"
   ]
  },
  {
   "cell_type": "code",
   "execution_count": 33,
   "metadata": {},
   "outputs": [],
   "source": [
    "# Theme testing\n",
    "my_theme = DocumentTheme()\n",
    "my_theme.background = '#dddddd'\n",
    "# my_theme.show_vertices = True\n",
    "my_theme.show_edges = True\n",
    "my_theme.split_sharp_edges = True\n",
    "my_theme.edge_color = 'k'\n",
    "my_theme.enable_camera_orientation_widget = True # Creates the camera bars in TOP RIGHT\n",
    "pv.global_theme.load_theme(my_theme)\n"
   ]
  },
  {
   "cell_type": "code",
   "execution_count": 34,
   "metadata": {},
   "outputs": [],
   "source": [
    "# Read the VTK file using PyVista\n",
    "filename = \"file.vtk\"\n",
    "mesh = pv.read(filename)\n",
    "\n",
    "# Extract data arrays\n",
    "dataset_arrays = []\n",
    "point_data = mesh.point_data\n",
    "cell_data = mesh.cell_data\n",
    "\n",
    "# Extract point data\n",
    "for i, (name, array) in enumerate(point_data.items()):\n",
    "    array_range = np.min(array), np.max(array)\n",
    "    dataset_arrays.append(\n",
    "        {\n",
    "            \"text\": name,\n",
    "            \"value\": i,\n",
    "            \"range\": list(array_range),\n",
    "            \"type\": vtk.vtkDataObject.FIELD_ASSOCIATION_POINTS,\n",
    "        }\n",
    "    )\n",
    "\n",
    "# Extract cell data\n",
    "for i, (name, array) in enumerate(cell_data.items()):\n",
    "    array_range = np.min(array), np.max(array)\n",
    "    dataset_arrays.append(\n",
    "        {\n",
    "            \"text\": name,\n",
    "            \"value\": i,\n",
    "            \"range\": list(array_range),\n",
    "            \"type\": vtk.vtkDataObject.FIELD_ASSOCIATION_CELLS,\n",
    "        }\n",
    "    )\n",
    "\n",
    "default_array = dataset_arrays[0]\n",
    "default_min, default_max = default_array.get(\"range\")\n"
   ]
  },
  {
   "cell_type": "code",
   "execution_count": 35,
   "metadata": {},
   "outputs": [],
   "source": [
    "# Create the plotter\n",
    "plotter = pv.Plotter()\n",
    "\n",
    "# Add the default mesh\n",
    "dActor = plotter.add_mesh(mesh, scalars=default_array.get(\"text\"), cmap=\"rainbow\")\n"
   ]
  },
  {
   "cell_type": "code",
   "execution_count": 36,
   "metadata": {},
   "outputs": [
    {
     "data": {
      "text/plain": [
       "<CubeAxesActor(0x0000024F044D5100) at 0x0000024F7312D060>"
      ]
     },
     "execution_count": 36,
     "metadata": {},
     "output_type": "execute_result"
    }
   ],
   "source": [
    "# Threshold for Z-Layer\n",
    "threshold_value = 0.5 * (default_min + default_max)\n",
    "z_layer = mesh.threshold([threshold_value, default_max], scalars='tentlevel')\n",
    "\n",
    "# Add the Z-Layer mesh\n",
    "zActor = plotter.add_mesh(z_layer, scalars=default_array.get(\"text\"), cmap=\"rainbow\", opacity=0.5)\n",
    "\n",
    "# Set up the camera and view\n",
    "plotter.view_xy()\n",
    "plotter.add_axes()\n",
    "plotter.show_grid()\n"
   ]
  },
  {
   "cell_type": "code",
   "execution_count": 37,
   "metadata": {},
   "outputs": [],
   "source": [
    "# Define update functions\n",
    "def update_mesh_representation(representation):\n",
    "    plotter.remove_actor(dActor)\n",
    "    if representation == \"Points\":\n",
    "        plotter.add_mesh(mesh, scalars=default_array.get(\"text\"), cmap=\"rainbow\", style='points')\n",
    "    elif representation == \"Wireframe\":\n",
    "        plotter.add_mesh(mesh, scalars=default_array.get(\"text\"), cmap=\"rainbow\", style='wireframe')\n",
    "    elif representation == \"Surface\":\n",
    "        plotter.add_mesh(mesh, scalars=default_array.get(\"text\"), cmap=\"rainbow\", style='surface')\n",
    "    elif representation == \"SurfaceWithEdges\":\n",
    "        plotter.add_mesh(mesh, scalars=default_array.get(\"text\"), cmap=\"rainbow\", style='surface')\n",
    "        plotter.add_mesh(mesh.extract_edges(), color='black')\n"
   ]
  },
  {
   "cell_type": "code",
   "execution_count": 38,
   "metadata": {},
   "outputs": [],
   "source": [
    "def update_zlayer_representation(representation):\n",
    "    plotter.remove_actor(zActor)\n",
    "    if representation == \"Points\":\n",
    "        plotter.add_mesh(z_layer, scalars=default_array.get(\"text\"), cmap=\"rainbow\", style='points')\n",
    "    elif representation == \"Wireframe\":\n",
    "        plotter.add_mesh(z_layer, scalars=default_array.get(\"text\"), cmap=\"rainbow\", style='wireframe')\n",
    "    elif representation == \"Surface\":\n",
    "        plotter.add_mesh(z_layer, scalars=default_array.get(\"text\"), cmap=\"rainbow\", style='surface')\n",
    "    elif representation == \"SurfaceWithEdges\":\n",
    "        plotter.add_mesh(z_layer, scalars=default_array.get(\"text\"), cmap=\"rainbow\", style='surface')\n",
    "        plotter.add_mesh(z_layer.extract_edges(), color='black')\n"
   ]
  },
  {
   "cell_type": "code",
   "execution_count": 39,
   "metadata": {},
   "outputs": [],
   "source": [
    "def update_mesh_color_by_name(index):\n",
    "    array = dataset_arrays[index]\n",
    "    plotter.update_scalars(mesh, scalars=array.get(\"text\"), cmap=\"rainbow\")\n",
    "\n",
    "def update_zlayer_color_by_name(index):\n",
    "    array = dataset_arrays[index]\n",
    "    plotter.update_scalars(z_layer, scalars=array.get(\"text\"), cmap=\"rainbow\")\n"
   ]
  },
  {
   "cell_type": "code",
   "execution_count": 40,
   "metadata": {},
   "outputs": [],
   "source": [
    "def update_mesh_opacity(opacity):\n",
    "    dActor.GetProperty().SetOpacity(opacity)\n",
    "    plotter.render()\n",
    "\n",
    "def update_zlayer_opacity(opacity):\n",
    "    zActor.GetProperty().SetOpacity(opacity)\n",
    "    plotter.render()\n"
   ]
  },
  {
   "cell_type": "code",
   "execution_count": 41,
   "metadata": {},
   "outputs": [],
   "source": [
    "def update_zlayer(z_value):\n",
    "    global z_layer, zActor\n",
    "    plotter.remove_actor(zActor)\n",
    "    z_layer = mesh.threshold([z_value, default_max], scalars='tentlevel')\n",
    "    zActor = plotter.add_mesh(z_layer, scalars=default_array.get(\"text\"), cmap=\"rainbow\", opacity=0.5)\n",
    "    plotter.render()\n"
   ]
  },
  {
   "cell_type": "code",
   "execution_count": 42,
   "metadata": {},
   "outputs": [],
   "source": [
    "# Checkbox callback to show/hide Z-layer or default mesh\n",
    "def checkbox_callback(value):\n",
    "    if value:\n",
    "        dActor.VisibilityOn()\n",
    "        zActor.VisibilityOff()\n",
    "    else:\n",
    "        dActor.VisibilityOff()\n",
    "        zActor.VisibilityOn()\n",
    "    plotter.render()\n"
   ]
  },
  {
   "cell_type": "code",
   "execution_count": 43,
   "metadata": {},
   "outputs": [],
   "source": [
    "# Add slider to control the Z-layer\n",
    "def slider_callback(value):\n",
    "    update_zlayer(value)\n",
    "\n",
    "# Adjust these values according to your data range\n",
    "slider_min = default_min\n",
    "slider_max = default_max\n"
   ]
  },
  {
   "cell_type": "code",
   "execution_count": 44,
   "metadata": {},
   "outputs": [
    {
     "data": {
      "application/vnd.jupyter.widget-view+json": {
       "model_id": "cdbf121d014a4afc998b7b9d71f3aa4d",
       "version_major": 2,
       "version_minor": 0
      },
      "text/plain": [
       "Widget(value='<iframe src=\"http://localhost:58753/index.html?ui=P_0x24f5a88a5a0_2&reconnect=auto\" class=\"pyvis…"
      ]
     },
     "metadata": {},
     "output_type": "display_data"
    }
   ],
   "source": [
    "# Add the slider\n",
    "plotter.add_slider_widget(\n",
    "    slider_callback,\n",
    "    rng=[slider_min, slider_max],\n",
    "    value=threshold_value,\n",
    "    title=\"Z-layer Threshold\",\n",
    "    style='modern'\n",
    ")\n",
    "\n",
    "# Add the checkbox - Toggle between meshes\n",
    "plotter.add_checkbox_button_widget(\n",
    "    checkbox_callback,\n",
    "    value=True, # Default is checked = default mesh\n",
    ")\n",
    "\n",
    "plotter.enable_element_picking(mode=ElementType.FACE)\n",
    "\n",
    "# Show the plot\n",
    "plotter.show()\n"
   ]
  },
  {
   "cell_type": "code",
   "execution_count": 45,
   "metadata": {},
   "outputs": [],
   "source": [
    "try:\n",
    "    width, height = plotter.window_size\n",
    "    plotter.iren._mouse_right_button_press(419, 263)\n",
    "    plotter.iren._mouse_right_button_release()\n",
    "except AttributeError:\n",
    "    pass\n"
   ]
  }
 ],
 "metadata": {
  "kernelspec": {
   "display_name": "env",
   "language": "python",
   "name": "python3"
  },
  "language_info": {
   "codemirror_mode": {
    "name": "ipython",
    "version": 3
   },
   "file_extension": ".py",
   "mimetype": "text/x-python",
   "name": "python",
   "nbconvert_exporter": "python",
   "pygments_lexer": "ipython3",
   "version": "3.12.3"
  }
 },
 "nbformat": 4,
 "nbformat_minor": 2
}
