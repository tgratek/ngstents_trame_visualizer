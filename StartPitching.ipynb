{
 "cells": [
  {
   "cell_type": "markdown",
   "id": "62e4ef9f-2687-4a6f-a099-8725e9a00333",
   "metadata": {},
   "source": [
    "# I. Getting Started with Pitching Tents\n",
    "\n",
    "**[Jay Gopalakrishnan](https://web.pdx.edu/~gjay/)**  (gjay@pdx.edu)\n",
    "\n",
    "**July 2023 NGSolve User Meeting Lecture: Part I**\n",
    "\n",
    "<br>\n",
    "<hr>"
   ]
  },
  {
   "cell_type": "markdown",
   "id": "fc95d7d5-2fb2-4d3b-924c-d08748c07e49",
   "metadata": {},
   "source": [
    "Tent-shaped spacetime regions are natural for solving hyperbolic problems.\n",
    "Due to their finite propagation speed, hyperbolic solutions have a cone-shaped domain of dependence at each point. The slope of the cone depends on the wave speed. Such cones of domain of dependence are shown shaded in the figures below."
   ]
  },
  {
   "cell_type": "markdown",
   "id": "2c714b6f-b4ee-4190-9ad0-c87522f4b4f0",
   "metadata": {},
   "source": [
    "<img src=\"figs/CausalityCond.png\">"
   ]
  },
  {
   "cell_type": "markdown",
   "id": "bc928a63-c9b2-4ffd-8cd4-0eff382e2776",
   "metadata": {},
   "source": [
    "The left figure above has a tent (drawn in black edges). Every point in this tent has a domain of dependence that is contained within the tent. Such a tent is said to satisfy the **causality condition**. The right figure shows a tent whose tentpole is too high to satisfy the causality condition. The domain of dependence of some points in the tent falls outside of the tent.  Note that the causality condition depends only on the exact hyperbolic wave speed,  is independent of the discretization, and is not the same as a CFL condition."
   ]
  },
  {
   "cell_type": "markdown",
   "id": "c6daf65a-f2e5-4a47-b7e9-dd8180b3dd9c",
   "metadata": {},
   "source": [
    "The `ngstents` package provides facilities to mesh a spacetime region with tents satisfying the causality condition. Such meshes can be thought of as  made up of advancing fronts (advancing in time) and naturally allow locally variable time stepping on  unstructured spatial meshes. The package also provides implementations of some hyperbolic solvers within tents."
   ]
  },
  {
   "cell_type": "markdown",
   "id": "863e1908-8212-4111-bf74-9e1a46ec7f87",
   "metadata": {},
   "source": [
    "We start by importing `TentSlab`, a class which knows how to subdivide spacetime slabs into tents."
   ]
  },
  {
   "cell_type": "code",
   "execution_count": null,
   "id": "b4c806e0-3d6b-412c-b126-970051f3da42",
   "metadata": {},
   "outputs": [],
   "source": [
    "import ngsolve as ng\n",
    "from ngstents import TentSlab"
   ]
  },
  {
   "cell_type": "markdown",
   "id": "1e62db43-807c-4f7c-aaa0-c09c83bc3b08",
   "metadata": {},
   "source": [
    "## Tents atop one space dimension"
   ]
  },
  {
   "cell_type": "markdown",
   "id": "69474584-959f-414c-ae34-74e07d1055df",
   "metadata": {},
   "source": [
    "It is easiest to illustrate tent meshes in one space dimension plus time (where the meshes will appear as 2D meshes). The implementation of tent meshing algorithm is based on a [[2017 paper]](https://doi.org/10.1137/16M1101374) which gives a uniform algorithmic strategy in any dimension."
   ]
  },
  {
   "cell_type": "code",
   "execution_count": null,
   "id": "f16a9b5d-7454-42a2-8648-78ffb9ebe0b3",
   "metadata": {},
   "outputs": [],
   "source": [
    "from ngsolve.meshes import Make1DMesh\n",
    "mesh = Make1DMesh(4)\n",
    "ts = TentSlab(mesh)"
   ]
  },
  {
   "cell_type": "markdown",
   "id": "98a609c0-9a4c-405d-8893-c447b16fd77a",
   "metadata": {},
   "source": [
    "The `ts` object represents a spacetime slab atop the spatial `mesh`. \n",
    "The  **time height** `dt` of the spacetime slab must be set before \n",
    "it can be filled with tents. "
   ]
  },
  {
   "cell_type": "code",
   "execution_count": null,
   "id": "e662371f-a611-4fa0-bce4-7851be97533b",
   "metadata": {},
   "outputs": [],
   "source": [
    "dt = 0.3  # Time-height of spacetime slab to be meshed with tents"
   ]
  },
  {
   "cell_type": "markdown",
   "id": "550d6d5f-3239-448c-8121-7955a1972b6c",
   "metadata": {},
   "source": [
    "Also, in order to satisfy the causality condition, the algorithm needs an **estimate of the maximal wave speed**."
   ]
  },
  {
   "cell_type": "code",
   "execution_count": null,
   "id": "7266e45a-08d2-460f-b1ef-ebf0ba4ed90a",
   "metadata": {},
   "outputs": [],
   "source": [
    "c = 3     # An estimate of maximal wave speed\n",
    "ts.SetMaxWavespeed(c)"
   ]
  },
  {
   "cell_type": "markdown",
   "id": "d7f44a0a-0d57-4807-84ad-0c3b6b6a23bd",
   "metadata": {},
   "source": [
    "Now, we are ready to pitch tents and fill the spacetime slab with tents.  As usual, all documentation in docstrings are accessible using python's help system, for example, by typing `help(ts.PitchTents)`."
   ]
  },
  {
   "cell_type": "code",
   "execution_count": null,
   "id": "4164b553-e059-49b1-85a0-bb9f2db4d746",
   "metadata": {},
   "outputs": [],
   "source": [
    "ts.PitchTents(dt);"
   ]
  },
  {
   "cell_type": "markdown",
   "id": "ff8fa7c1-5a4e-4f0b-85c6-798c20694177",
   "metadata": {},
   "source": [
    "A simple matplotlib-based visualization is provided for the one-dimensional case. Using it, we see the mesh of tents just made in a two-dimensional diagram where the vertical axis represents time. "
   ]
  },
  {
   "cell_type": "code",
   "execution_count": null,
   "id": "2cd033f3-9e9a-4bf6-a38f-1a96be7cc11b",
   "metadata": {
    "scrolled": true
   },
   "outputs": [],
   "source": [
    "ts.DrawPitchedTentsPlt(showtentnums=True)"
   ]
  },
  {
   "cell_type": "markdown",
   "id": "d6b9c874-f802-4df9-8355-924c08034d97",
   "metadata": {},
   "source": [
    "This visualizes the spacetime slab, of the height `dt` that we specified, subdivided into tents. The colors above represent **advancing fronts** and indicate a **tent level number**. Beginning with a flat advancing front ($t=0$), the next front (the blue front above) is made of canopies of all level 1 tents. Level 2 tents are pitched atop of level 1 tents and produce the bext advancing front (shown in green above), and so on.\n",
    "\n",
    "When solving hyperbolic systems, **all tents in the same level are processed in parallel** using thread parallelism facilities (thanks to ngsolve's TaskManager). Level 2 tents can be solved only after Level 1 tents are solved, and so on. Hence  a *directed acyclic graph* (DAG) of tent dependencies, like that shown below,  is created internally in `ngstents` and used in a concurrent queue for task parallel implementation. \n",
    "\n",
    "<center><img src=\"./figs/dag.png\" width=\"40%\"></center>"
   ]
  },
  {
   "cell_type": "markdown",
   "id": "a263e3ef-5bae-4cbd-80cb-ec33c1b5f595",
   "metadata": {},
   "source": [
    "Some properties of the C++ class representing `TentSlab` are exposed in python. You can query tent and spacetime slab properties using the available python attributes."
   ]
  },
  {
   "cell_type": "code",
   "execution_count": null,
   "id": "705c77b4-3825-45fd-95a2-282b877565b4",
   "metadata": {},
   "outputs": [],
   "source": [
    "print('Number of tents:',   ts.GetNTents()) # Query TentSlab\n",
    "print('Maximal tent slope:', ts.MaxSlope())"
   ]
  },
  {
   "cell_type": "code",
   "execution_count": null,
   "id": "4270be7c-571f-4143-a652-ffef279e25ef",
   "metadata": {},
   "outputs": [],
   "source": [
    "n = 6  # Query a tent of number n\n",
    "t = ts.GetTent(n)\n",
    "print('Details of Tent #%d:' % n)\n",
    "print('  Pitching (central) vertex number:', t.vertex)\n",
    "print('  Neighbor vertex numbers:', list(t.nbv))\n",
    "print('  Tent element numbers:',    list(t.els))\n",
    "print('  Neighbor vertex heights:', list(t.nbtime))"
   ]
  },
  {
   "cell_type": "markdown",
   "id": "4245e257-3ec1-4dbd-90aa-ae0bf97239e7",
   "metadata": {},
   "source": [
    "<br>\n",
    "\n",
    "As you may expect, the tent mesh will get more complex if the spatial mesh is complex. Indeed, the main interest in using tents is for seamlessly enabling **variable time advance** (aka, local time stepping) on nonuniform spatial meshes. Here is a simple example that illustrates this using a nonuniform spatial mesh, staying in one space dimension. "
   ]
  },
  {
   "cell_type": "code",
   "execution_count": null,
   "id": "da1431da-c94b-439c-83dd-c8d0c61e0c2b",
   "metadata": {},
   "outputs": [],
   "source": [
    "mesh = Make1DMesh(7, mapping=lambda x: 1-x**2)\n",
    "for v in mesh.vertices: print(v.point)"
   ]
  },
  {
   "cell_type": "markdown",
   "id": "9ed500a1-c1a9-41cb-b0f9-6fdd1c676c0e",
   "metadata": {},
   "source": [
    "Spatial mesh points are now more packed near 1 compared to 0. In order to satisfy the causality condition, smaller spatial elements will necessitate smaller tents to be built atop them."
   ]
  },
  {
   "cell_type": "code",
   "execution_count": null,
   "id": "076af1ae-6be2-4c14-8dbf-5d8c2bc3797a",
   "metadata": {},
   "outputs": [],
   "source": [
    "ts = TentSlab(mesh)\n",
    "ts.SetMaxWavespeed(c)\n",
    "ts.PitchTents(dt)\n",
    "ts.DrawPitchedTentsPlt()"
   ]
  },
  {
   "cell_type": "markdown",
   "id": "b66ac47e-bff5-4437-98ae-5e3578d8e4a2",
   "metadata": {},
   "source": [
    "Near the right boundary, we see how smaller time steps are automatically realized. The algorithm has determined that larger time advances can be made in regions of larger spatial elements without violating causality."
   ]
  },
  {
   "cell_type": "markdown",
   "id": "fb496284-4224-4511-8b55-06b8bca42b1a",
   "metadata": {},
   "source": [
    "Another scenario of interest is when the hyperbolic wavespeed varies significantly from one part of the domain to another. To handle such cases, the maximal wavespeed input `c` can be a spatially varying coefficient function, as in the next example."
   ]
  },
  {
   "cell_type": "code",
   "execution_count": null,
   "id": "b280dda7-59f6-49b8-9a19-83544e0ec0d3",
   "metadata": {},
   "outputs": [],
   "source": [
    "mesh = Make1DMesh(15)\n",
    "dt=0.2\n",
    "ts = TentSlab(mesh)\n",
    "\n",
    "# set c to higher wavespeed in the middle of the domain:\n",
    "ts.SetMaxWavespeed(1 + ng.CF(ng.exp(-100 * (ng.x-0.5)**2)))  \n",
    "\n",
    "ts.PitchTents(dt)\n",
    "ts.DrawPitchedTentsPlt()"
   ]
  },
  {
   "cell_type": "markdown",
   "id": "2e190a87-a4f4-4c44-aa60-8dfbae808b5d",
   "metadata": {},
   "source": [
    "Clearly, the resulting tents have smaller tent poles near the middle of the domain. "
   ]
  },
  {
   "cell_type": "markdown",
   "id": "6e4630e6-e0cb-4b6d-a9ff-89a35d8a6993",
   "metadata": {},
   "source": [
    "## An acoustic wave in two space dimensions"
   ]
  },
  {
   "cell_type": "markdown",
   "id": "350e4e10-3467-4d6b-92ff-ea77082f7ecd",
   "metadata": {},
   "source": [
    "Next, we turn to two space dimensions and solve the wave equation using tents. The submodule `ngstent.conslaw` has methods for solving first order hyperbolic conservation laws.\n",
    "\n",
    "In standard second order form, the scalar wave equation reads \n",
    "$$\n",
    "\\def\\d{\\partial}\n",
    "\\newcommand{\\divx}{\\text{div}_{\\vec{x}}}\n",
    "\\newcommand{\\gradx}{\\text{grad}_{\\vec{x}}}\n",
    "\\begin{aligned}\n",
    "      \\d_{tt} \\phi \n",
    "      % = \\beta \\d_t \\phi\n",
    "      - \\Delta  \\phi\n",
    "      & = 0 \n",
    "\\end{aligned}\n",
    "$$\n",
    "for a scalar function $\\phi$. To use the facilities in this package, we first reformulate it as a first order hyperbolic system using the state variable \n",
    "$$\n",
    "      u =\n",
    "      \\begin{bmatrix}\n",
    "        q \\\\ \\mu \n",
    "      \\end{bmatrix}\n",
    "      = \n",
    "      \\begin{bmatrix}\n",
    "        -\\gradx \\phi \n",
    "        \\\\ \n",
    "        \\d_t \\phi\n",
    "      \\end{bmatrix}. \n",
    "$$\n",
    "Here $q$ is the vector flux of the scalar wave $\\phi$, and the state variable $u$ is the 3-component vector function that we need to find.  From the second order equation for $\\phi$, we easily obtain the system \n",
    "$$\n",
    "    \\begin{aligned}\n",
    "    \\underbrace{\n",
    "      \\frac{\\d}{\\d t}% \\d_t \n",
    "            \\begin{bmatrix}\n",
    "              q \\\\ \\mu \n",
    "            \\end{bmatrix}\n",
    "      }_{\\textstyle{\\d_t u}}\n",
    "      +\n",
    "      \\underbrace{\n",
    "      \\begin{bmatrix}\n",
    "        0 & \\gradx \\\\\n",
    "       \\divx & 0 \n",
    "      \\end{bmatrix}\n",
    "            \\begin{bmatrix}\n",
    "              q \\\\ \\mu \n",
    "            \\end{bmatrix}\n",
    "      }_{\\divx\n",
    "      {\\textstyle{\n",
    "      \\underbrace{\\textstyle{\n",
    "      \\left[\n",
    "      \\begin{smallmatrix}\n",
    "        I \\mu \\\\ q\n",
    "      \\end{smallmatrix}\n",
    "      \\right]\n",
    "      }\n",
    "      }_{\\textstyle{f(u)}}}}}    = 0    \n",
    "\\end{aligned}\n",
    "$$\n",
    "which is a first order conservation law in its familiar form \n",
    "$$\n",
    "\\d_t u + \\divx f(u) =0\n",
    "$$\n",
    "with the above-indicated flux $f$."
   ]
  },
  {
   "cell_type": "markdown",
   "id": "2428ef43-2b3c-4a08-85a6-3548f3848153",
   "metadata": {},
   "source": [
    "The two-dimensional spatial variable $\\vec{x} = (x, y)$ lies in a spatial domain, which in the problem we proceed to solve, is composed of a small pipe and a large opening.  We start with an intial scalar wave profile of the form $\\phi(\\vec{x}, 0) = e^{-d\\, (y+\\text{shift})^2}$, choosing shift and $d$ so that the wave is almost confined in the small pipe at start. The corresponding initial $u_0$ is set and drawn below, after constructing the geometry and mesh."
   ]
  },
  {
   "cell_type": "code",
   "execution_count": null,
   "id": "a8ce0bcd-9b07-4bdf-ae4c-e69e6947a2c5",
   "metadata": {},
   "outputs": [],
   "source": [
    "from netgen.geom2d import EdgeInfo as EI, Solid2d, CSG2d\n",
    "from ngsolve.webgui import Draw\n",
    "from ngsolve import L2, GridFunction, x, y, exp, CF\n",
    "\n",
    "geo = CSG2d()\n",
    "horn = Solid2d(\n",
    "    [(1, 0.55),\n",
    "     EI((1, 1), bc='out'),      # right curved boundary (with control point)\n",
    "     (0, 1),\n",
    "     EI((-1,  1), bc='out'),    # left curved bdry\n",
    "     (-1, 0.55),\n",
    "     EI(bc='cone'),             # conical walls\n",
    "     (-0.03, 0),\n",
    "     EI(maxh=0.02, bc='pipe'),  # feed pipe\n",
    "     (-0.03, -0.5),\n",
    "     EI(maxh=0.02, bc='in'),\n",
    "     (+0.03, -0.5),\n",
    "     EI(maxh=0.02, bc='pipe'),\n",
    "     (+0.03, 0),\n",
    "     EI(bc='cone')\n",
    "     ], mat='air')\n",
    "geo.Add(horn)\n",
    "mesh = ng.Mesh(geo.GenerateMesh(maxh=0.15))\n",
    "mesh.Curve(4)\n",
    "\n",
    "s = y+0.2; d = 500               # initial wave\n",
    "phi = exp(-s**2 * d); dphi = 2 * d * s * phi\n",
    "q0 = CF((0, -dphi)); mu0 = -dphi; u0 = CF((q0, mu0))\n",
    "scene = Draw(u0, mesh)"
   ]
  },
  {
   "cell_type": "markdown",
   "id": "6454d76a-6e78-4516-97bf-b79927e279e0",
   "metadata": {},
   "source": [
    "The next step is to construct a spacetime slab, as in the one-dimensional case. We use the same functions we have seen previously (and the tent meshing algorithm is formulated to work uniformly in any spatial dimension). The wave speed for the above wave equation is clearly one: we provide this information to the tent pitcher. This time, we control the tentpole heights more conservatively using additional arguments to the `PitchTents` method. "
   ]
  },
  {
   "cell_type": "code",
   "execution_count": null,
   "id": "a3ae268d-9236-42cf-8e88-eab2de9cf1b2",
   "metadata": {},
   "outputs": [],
   "source": [
    "ts = TentSlab(mesh)\n",
    "wavespeed = 1\n",
    "dt = 0.05\n",
    "ts.SetMaxWavespeed(wavespeed)\n",
    "ts.PitchTents(dt=dt, local_ct=True, global_ct=1/2) \n",
    "ts.MaxSlope()"
   ]
  },
  {
   "cell_type": "markdown",
   "id": "abb102f4-cbe4-4efa-93a4-a368469c1fb7",
   "metadata": {},
   "source": [
    "Note that in two space dimensions, the tent mesh is three dimensional. The higher dimensional mesh structure is not actually made or stored as an netgen mesh structure. The code only keeps the spatial mesh and time coordinates of advancing front. Nonetheless, a facility to make this three-dimensional mesh is provided. It is not very efficient and is intended just for visualization in small problems."
   ]
  },
  {
   "cell_type": "code",
   "execution_count": null,
   "id": "3366167c-9d8e-487f-a016-60f58d5daea6",
   "metadata": {},
   "outputs": [],
   "source": [
    "js_code = \"\"\"\n",
    "  scene.gui.settings.rotateFan = false;\n",
    "  scene.gui.add(scene.gui.settings, \"rotateFan\").onChange(()=>scene.animate());\n",
    "\n",
    "  // Track time since first draw\n",
    "  let t = 0;\n",
    "  const speed = 90*Math.PI/180;\n",
    "\n",
    "  scene.on(\"afterrender\", (scene, dt) => {\n",
    "    if(scene.gui.settings.rotateFan) {\n",
    "      t += dt;\n",
    "      if(t<10) {\n",
    "        console.log(`time since last frame: ${dt} seconds`, \"total time: \", t, \"seconds\");\n",
    "\n",
    "        // rotate around y axis\n",
    "        scene.controls.rotateObject(new modules.THREE.Vector3(0,1,0), dt*speed);\n",
    "\n",
    "        // recalculate transformation matrices, also triggers rerendering of scene\n",
    "        scene.controls.update();\n",
    "      }\n",
    "    } else {\n",
    "      t = 0; // Reset time\n",
    "    }\n",
    "  })\n",
    "\"\"\"\n",
    "\n",
    "msh, v, w = ts.DrawPitchedTents(uptolevel=1)\n",
    "Draw(msh, js_code=js_code)"
   ]
  },
  {
   "cell_type": "code",
   "execution_count": null,
   "id": "e56bd511",
   "metadata": {},
   "outputs": [],
   "source": []
  },
  {
   "cell_type": "markdown",
   "id": "c916c826-6503-4766-b8a0-8cd5f7f1fa12",
   "metadata": {},
   "source": [
    "If the input keyword argument `uptolevel` is omitted above, the entire `TentSlab` will be displayed. The output arguments other than the mesh (`v` and `w` above) can be used to color the tents using tent level number: just type `Draw(v)` for example. If you find such coloring not to your liking, you can use another facility, \n",
    "```\n",
    "ts.DrawPitchedTentsVTK(file.vtk)\n",
    "```\n",
    "to create a VTK file for high-quality visualization in  [Paraview](https://www.paraview.org/). In addition to tent mesh geometry, the vtk file also stores tent level numbers. Using Paraview's Threshold filter menu, the stored tent level numbers allow you to see the progression of how a spacetime slab is filled with tents, but let us not go into this now."
   ]
  },
  {
   "cell_type": "markdown",
   "id": "24f8d5fc",
   "metadata": {},
   "source": []
  },
  {
   "cell_type": "markdown",
   "id": "ec13f31f-91bc-4c2a-a665-7f8ea154202f",
   "metadata": {},
   "source": [
    "Next, to solve the hyperbolic problem, we import an object representing the conservation law equations. Several hyperbolic systems are given in readymade classes, and the `Wave` module is just what we need for this problem. (There are also facilities to describe your own hyperbolic  systems, but we will get to that later.) "
   ]
  },
  {
   "cell_type": "code",
   "execution_count": null,
   "id": "91d45ae5-6cfc-4a00-80e4-4781bde3d1f0",
   "metadata": {},
   "outputs": [],
   "source": [
    "from ngstents.conslaw import Wave"
   ]
  },
  {
   "cell_type": "markdown",
   "id": "09cd1da2-7508-4ea5-a150-a87a55e6b30f",
   "metadata": {},
   "source": [
    "The `conslaw` module implements hyperbolic solvers within tents using the well-known discontinuous Galerkin (DG) spatial discretization and time stepping. What exactly is meant by a *spatial* discretization and *time stepping* in a *spacetime* tent is a story for later, but for the moment, we just mention that this separation of space and time is made possible by a certain map in the **MTP (Mapped Tent Pitching) schemes**  developed in the  [[2017 paper]](https://doi.org/10.1137/16M1101374).\n",
    "\n",
    "The spatial discretization implemented in `Wave` is the **standard upwind DG** spatial discretization of polynomial degree $p$.  We make a DG finite element space of `order=`$p$\n",
    "and a grid function in this DG space to hold the state vector $u$ with *three* components. This grid function, the spacetime slab of tents,  as well as boundary conditions, are now provided to the `Wave` constructor. "
   ]
  },
  {
   "cell_type": "code",
   "execution_count": null,
   "id": "ac70b162-aed6-4361-a0c4-b96252507a32",
   "metadata": {},
   "outputs": [],
   "source": [
    "V = L2(mesh, order=2, dim=mesh.dim+1)\n",
    "u = GridFunction(V, \"u\")\n",
    "wave = Wave(u, ts, inflow=mesh.Boundaries('in'),\n",
    "            transparent=mesh.Boundaries('out'),\n",
    "            reflect=mesh.Boundaries('pipe|cone'))"
   ]
  },
  {
   "cell_type": "markdown",
   "id": "bfabb1d8-1fae-4f6f-ab01-ad6eb46be36f",
   "metadata": {},
   "source": [
    "Next, we turn to the time stepper within each tent. The default in `ngstents` is the second order  **SARK explicit timestepper** (Structure-Aware Runge Kutta scheme), developed in a [[2020 paper]](https://doi.org/10.1007/s42985-020-00020-4). We proceed to use it below.\n",
    "\n",
    "Since the SARK timestepping scheme within a tent is explicit, the causality condition alone is not sufficient  for **stability**. We must also obey a *CFL constraint within the tent* which limits  the tentpole height by spatial discretization factors. To do so, we divide each tent into sufficiently many **subtents** (with smaller tentpoles) and apply the SARK scheme within the subtents. "
   ]
  },
  {
   "cell_type": "markdown",
   "id": "44a00755-adc4-42bc-a699-e7e671161502",
   "metadata": {},
   "source": [
    "<center><img src=\"./figs/subtents.png\" width=\"40%\"></center>"
   ]
  },
  {
   "cell_type": "markdown",
   "id": "f041b799-a916-4078-8038-ad75b15fd8fd",
   "metadata": {},
   "source": [
    "As with standard methods, without knowing the precise stability constants, it is difficult to tell ahead of time how many subtents is  \"sufficiently many\". It depends on many factors including the spatial degree $p$. Some experimentation will generally be needed for each new problem. The `substeps` argument below specifies the number of subtents to use.   "
   ]
  },
  {
   "cell_type": "code",
   "execution_count": null,
   "id": "fce208d4-c9a9-46aa-aaa1-433c5aa2b488",
   "metadata": {},
   "outputs": [],
   "source": [
    "wave.SetTentSolver(substeps=10)"
   ]
  },
  {
   "cell_type": "markdown",
   "id": "468109fd-cd27-48a7-8b44-3bb3dea6b643",
   "metadata": {},
   "source": [
    "For visualization purposes, we also create a vector to hold the solution at all time steps. (This is often impractical in large problems, but not an issue for our small example.)"
   ]
  },
  {
   "cell_type": "code",
   "execution_count": null,
   "id": "1cd428b3-37c3-4a0f-a8a6-3b50c8e1a926",
   "metadata": {},
   "outputs": [],
   "source": [
    "ut = ng.GridFunction(V, multidim=0)\n",
    "ut.AddMultiDimComponent(u.vec)"
   ]
  },
  {
   "cell_type": "markdown",
   "id": "85d58942-e973-474d-991e-9c2f2813954f",
   "metadata": {},
   "source": [
    "For solving the problem, we  just need to use the `Propagate` method."
   ]
  },
  {
   "cell_type": "code",
   "execution_count": null,
   "id": "6293b459-f073-4830-8b39-42e93fbf7896",
   "metadata": {},
   "outputs": [],
   "source": [
    "wave.SetInitial(u0)\n",
    "scene = Draw(u)\n",
    "t = 0\n",
    "with ng.TaskManager():\n",
    "    while t < 0.7:\n",
    "        wave.Propagate()   # Solve in the current spacetime slab\n",
    "        t += dt\n",
    "        \n",
    "        # If the solution went by too fast, uncomment this: \n",
    "        # input(' Time {:.3f}.'.format(t) + ' Compute next time slab?')\n",
    "        ut.AddMultiDimComponent(u.vec)   # Store the solution at current slab top\n",
    "        scene.Redraw()"
   ]
  },
  {
   "cell_type": "markdown",
   "id": "6b723b3f-f61b-47de-9cf4-e3c689d5d420",
   "metadata": {},
   "source": [
    "The plot shows a norm with all components of the state vector $u$ (related to the square root of the acoustic energy). The saved states can be animated, as shown below.\n",
    "\n",
    "(If you want to see a manifestation of instability, you can reduce the number of subtents to  `substeps=2` above, and retry the simulation: uncomment the `input` line above to slowly step through any blowup.) "
   ]
  },
  {
   "cell_type": "code",
   "execution_count": null,
   "id": "8b6b2e5d-e5c5-47c2-a219-3b45037cf489",
   "metadata": {},
   "outputs": [],
   "source": [
    "Draw(ut, mesh, autoscale=False, min=1, max=5, interpolate_multidim=True, animate=True);"
   ]
  },
  {
   "cell_type": "markdown",
   "id": "607bd9b5-fdf0-463a-8e21-65d77de01e42",
   "metadata": {},
   "source": [
    "\n",
    "## Conclusion\n",
    "\n",
    "Here is a list of key concepts we have seen above:\n",
    "\n",
    "- Causality condition\n",
    "- Advancing spacetime fronts\n",
    "- The `TentSlab` object\n",
    "- Tent marching in parallel\n",
    "- Explicit marching within tents\n",
    "- Subtents & stability\n",
    "- Solving for an acoustic wave\n",
    "\n",
    "We also used MTP schemes and SARK timestepping without delving into their construction. The [next tutorial](./BurgersMTP.ipynb) provides more information on MTP schemes.\n",
    "\n",
    "<br>\n",
    "\n",
    "<hr>"
   ]
  }
 ],
 "metadata": {
  "kernelspec": {
   "display_name": "Python 3 (ipykernel)",
   "language": "python",
   "name": "python3"
  },
  "language_info": {
   "codemirror_mode": {
    "name": "ipython",
    "version": 3
   },
   "file_extension": ".py",
   "mimetype": "text/x-python",
   "name": "python",
   "nbconvert_exporter": "python",
   "pygments_lexer": "ipython3",
   "version": "3.12.3"
  }
 },
 "nbformat": 4,
 "nbformat_minor": 5
}
