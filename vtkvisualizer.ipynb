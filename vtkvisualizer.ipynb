{
 "cells": [
  {
   "cell_type": "code",
   "execution_count": null,
   "metadata": {},
   "outputs": [],
   "source": [
    "from pyvista_trame import VTKVisualizer\n",
    "try:\n",
    "    visualizer = VTKVisualizer(filename=\"test-files/file.vtk\")\n",
    "    await visualizer.ui.ready\n",
    "    visualizer.ui\n",
    "except FileNotFoundError as e:\n",
    "    print(e)"
   ]
  }
 ],
 "metadata": {
  "kernelspec": {
   "display_name": "env",
   "language": "python",
   "name": "python3"
  },
  "language_info": {
   "codemirror_mode": {
    "name": "ipython",
    "version": 3
   },
   "file_extension": ".py",
   "mimetype": "text/x-python",
   "name": "python",
   "nbconvert_exporter": "python",
   "pygments_lexer": "ipython3",
   "version": "3.12.3"
  },
  "vscode": {
   "interpreter": {
    "hash": "c35f5e21971310eda9419bbc65559427eb747959617fbba860926020e13b2422"
   }
  }
 },
 "nbformat": 4,
 "nbformat_minor": 2
}
