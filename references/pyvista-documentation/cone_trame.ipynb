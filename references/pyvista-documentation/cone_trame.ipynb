{
 "cells": [
  {
   "cell_type": "code",
   "execution_count": null,
   "metadata": {},
   "outputs": [],
   "source": [
    "import os\n",
    "os.environ[\"TRAME_DISABLE_V3_WARNING\"] = \"1\"\n",
    "\n",
    "from trame.app import get_server\n",
    "from trame.ui.vuetify import SinglePageLayout\n",
    "from trame.widgets import html, vuetify, vtk\n",
    "\n",
    "class Cone:\n",
    "    def __init__(self, name=None):\n",
    "        self.server = get_server(name, client_type=\"vue2\")\n",
    "        self._ui = None\n",
    "\n",
    "        # Build UI\n",
    "        self.ui\n",
    "\n",
    "    @property\n",
    "    def state(self):\n",
    "        return self.server.state\n",
    "\n",
    "    @property\n",
    "    def ctrl(self):\n",
    "        return self.server.controller\n",
    "\n",
    "    @property\n",
    "    def resolution(self):\n",
    "        return self.state.resolution\n",
    "\n",
    "    @resolution.setter\n",
    "    def resolution(self, v):\n",
    "        with self.state:\n",
    "            self.state.resolution = v\n",
    "\n",
    "    def reset_resolution(self):\n",
    "        self.resolution = 6\n",
    "\n",
    "    @property\n",
    "    def ui(self):\n",
    "        if self._ui is None:\n",
    "            with SinglePageLayout(self.server) as layout:\n",
    "                self._ui = layout\n",
    "                with layout.toolbar:\n",
    "                    vuetify.VSpacer()\n",
    "                    vuetify.VSlider(\n",
    "                        v_model=(\"resolution\", 6), min=3, max=60, hide_details=True\n",
    "                    )\n",
    "                    vuetify.VBtn(\"Reset\", click=self.reset_resolution)\n",
    "                with layout.content:\n",
    "                    with vuetify.VContainer(fluid=True, classes=\"pa-0 fill-height\"):\n",
    "                        with vtk.VtkView() as vtk_view:\n",
    "                            self.ctrl.reset_camera = vtk_view.reset_camera\n",
    "                            with vtk.VtkGeometryRepresentation():\n",
    "                                vtk.VtkAlgorithm(\n",
    "                                    vtkClass=\"vtkConeSource\", state=(\"{ resolution }\",)\n",
    "                                )\n",
    "\n",
    "        return self._ui\n"
   ]
  },
  {
   "cell_type": "code",
   "execution_count": null,
   "metadata": {},
   "outputs": [],
   "source": [
    "cone = Cone()\n",
    "await cone.ui.ready\n",
    "cone.ui"
   ]
  }
 ],
 "metadata": {
  "kernelspec": {
   "display_name": "env",
   "language": "python",
   "name": "python3"
  },
  "language_info": {
   "codemirror_mode": {
    "name": "ipython",
    "version": 3
   },
   "file_extension": ".py",
   "mimetype": "text/x-python",
   "name": "python",
   "nbconvert_exporter": "python",
   "pygments_lexer": "ipython3",
   "version": "3.12.3"
  }
 },
 "nbformat": 4,
 "nbformat_minor": 2
}
